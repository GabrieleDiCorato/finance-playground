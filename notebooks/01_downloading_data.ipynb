{
 "cells": [
  {
   "cell_type": "markdown",
   "id": "6bfe228d-e9e1-4516-bbb0-958a1cce37f0",
   "metadata": {},
   "source": [
    "# Yahooo Finance Exploration"
   ]
  },
  {
   "cell_type": "markdown",
   "id": "dc1553ed-4c52-42fc-b056-e9caba6f520a",
   "metadata": {},
   "source": [
    "This notebook is dedicated to exploring basic yfinance functionalities."
   ]
  },
  {
   "cell_type": "code",
   "execution_count": null,
   "id": "20a8551f-a592-40c6-9480-3c752669cef5",
   "metadata": {},
   "outputs": [],
   "source": [
    "import numpy as np\n",
    "import pandas as pd\n",
    "import matplotlib.pyplot as plt\n",
    "import yfinance as yf"
   ]
  },
  {
   "cell_type": "markdown",
   "id": "056a2703-f5f1-44e5-8304-95b949518949",
   "metadata": {},
   "source": [
    "# Searching"
   ]
  },
  {
   "cell_type": "markdown",
   "id": "5d4c9efb-d8e4-4448-8643-6e12f86f46d5",
   "metadata": {},
   "source": [
    "## Search"
   ]
  },
  {
   "cell_type": "markdown",
   "id": "7c077257-4928-4b7e-92bd-976f01294beb",
   "metadata": {},
   "source": [
    "We can perform searches on Yahoo Finance using the ```Search``` API:"
   ]
  },
  {
   "cell_type": "code",
   "execution_count": null,
   "id": "f5dfaa77-7234-4c48-bc2d-7081ca47e9ac",
   "metadata": {},
   "outputs": [],
   "source": [
    "search_handler = yf.Search(\"Apple Inc.\")\n",
    "search_res = search_handler.search()"
   ]
  },
  {
   "cell_type": "code",
   "execution_count": null,
   "id": "4c2bb0a9-798e-4e77-ba44-7980d767283e",
   "metadata": {},
   "outputs": [],
   "source": [
    "quotes_info = [(exch_dict[\"symbol\"], exch_dict[\"exchDisp\"], exch_dict[\"exchange\"]) \n",
    "               for exch_dict in search_res.quotes \n",
    "               if exch_dict[\"quoteType\"] == \"EQUITY\"]\n",
    "print(\"The company Apple is quoted on the following markets:\", quotes_info)"
   ]
  },
  {
   "cell_type": "markdown",
   "id": "0f28ef38-24c8-483b-83a0-e64cc75b5bb7",
   "metadata": {},
   "source": [
    "## Screen"
   ]
  },
  {
   "cell_type": "markdown",
   "id": "ea55acbc-60bd-4479-ad34-30f0206729b6",
   "metadata": {},
   "source": [
    "We can perform more complex searches using ```*Query``` objects, like ```EquityQuery```."
   ]
  },
  {
   "cell_type": "code",
   "execution_count": null,
   "id": "33d7adaa-1f4d-4c93-8e58-033b056c095f",
   "metadata": {},
   "outputs": [],
   "source": [
    "query = yf.EquityQuery(\"and\", [\n",
    "    yf.EquityQuery(\"eq\", [\"exchange\", \"NMS\"]),\n",
    "    yf.EquityQuery(\"gt\", [\"percentchange\", 3])\n",
    "    ])\n",
    "\n",
    "yf.screen(query, sortField = \"percentchange\", sortAsc = False, size = 1)"
   ]
  },
  {
   "cell_type": "markdown",
   "id": "096a1a9f-25f2-4069-b6dc-be06ee946e94",
   "metadata": {},
   "source": [
    "There are some [predefined screeners](https://yfinance-python.org/reference/api/yfinance.screen.html#yfinance.screen) available:"
   ]
  },
  {
   "cell_type": "code",
   "execution_count": null,
   "id": "d7c5ea4e-dbad-476d-a015-570cf02f573e",
   "metadata": {},
   "outputs": [],
   "source": [
    "query = yf.PREDEFINED_SCREENER_QUERIES['day_gainers'][\"query\"]\n",
    "yf.screen(query, size = 1)"
   ]
  },
  {
   "cell_type": "markdown",
   "id": "2cd63267-abb3-43a0-b77e-775d8be588c5",
   "metadata": {},
   "source": [
    "## Lookup"
   ]
  },
  {
   "cell_type": "markdown",
   "id": "6c164fef-4973-44e8-8487-6bc426140d37",
   "metadata": {},
   "source": [
    "The Lookup API allows other search functionalities and presents them in a useful DataFrame format, with methods dedicated to quote types."
   ]
  },
  {
   "cell_type": "code",
   "execution_count": null,
   "id": "e190a01a-224e-44e1-ad89-13fb6922f5a8",
   "metadata": {},
   "outputs": [],
   "source": [
    "lookup_res = yf.Lookup(\"Apple Inc.\")\n",
    "lookup_res.all.head()"
   ]
  },
  {
   "cell_type": "code",
   "execution_count": null,
   "id": "ac953937-92a2-4f23-9676-5266b97a4ef4",
   "metadata": {},
   "outputs": [],
   "source": [
    "# Resulting stocks\n",
    "print(\"Stocks:\")\n",
    "lookup_res.stock.head()"
   ]
  },
  {
   "cell_type": "code",
   "execution_count": null,
   "id": "20be0248-4c48-4ef7-9671-10cce792229a",
   "metadata": {},
   "outputs": [],
   "source": [
    "print(\"ETFs:\")\n",
    "lookup_res.etf.head()"
   ]
  },
  {
   "cell_type": "markdown",
   "id": "506574d5-3d4c-4db2-84fd-d2f257329247",
   "metadata": {},
   "source": [
    "## Downloading Ticker Info"
   ]
  },
  {
   "cell_type": "markdown",
   "id": "4d1d0e4f-5e78-4cdf-b129-bd57019d1984",
   "metadata": {},
   "source": [
    "To retrieve info on a single financial instrument, for example [Apple](https://it.finance.yahoo.com/quote/AAPL/):"
   ]
  },
  {
   "cell_type": "code",
   "execution_count": null,
   "id": "5152b146-9e8f-4ec3-8144-586e1a8bba15",
   "metadata": {},
   "outputs": [],
   "source": [
    "ticker = yf.Ticker(\"AAPL\")"
   ]
  },
  {
   "cell_type": "markdown",
   "id": "26cbac54-d31b-4820-8cd2-7dc20bc104c9",
   "metadata": {},
   "source": [
    "We can obtain a lot of data from this Ticker object and its methods. Here are some personal notes on what catches my eyes:\n",
    "\n",
    "* ```ticker.get_info``` returns a dictionary with miscellaneos info, both anagraphical (e.g. short name, market, exchange, quote type, quote currency, etc.) and market quotes (e.g. day high, volume, bid/ask, etc.);\n",
    "* ```ticker.get_history_metadata``` returns a dictionary with details on the security's trading operations, e.g. current trading period, recent past trading period hours, etc.;\n",
    "* ```ticker.get_actions``` returns a DataFrame of past corporate actions, but only Dividends and Stock Splits;\n",
    "* ```ticker.get_balance_sheet``` returns a DataFrame with a history of the company's balance sheets. Of course this only applies to stocks;\n",
    "* ```ticker.get_calendar``` returns info on future events, like the next ex-dividend date;\n",
    "* ```ticker.option_chain``` returns an Options object with info on [all options](https://finance.yahoo.com/quote/AAPL/options/) on this underlying;\n",
    "* ```ticker.get_news``` returns a list of news on this security.\n",
    "\n",
    "There a lot of other methods that can be explored [here](https://yfinance-python.org/reference/api/yfinance.Ticker.html#yfinance.Ticker). Unfortunately the API is poorly documented."
   ]
  },
  {
   "cell_type": "code",
   "execution_count": null,
   "id": "b204dda3-f1a9-4baa-b318-83e22c881539",
   "metadata": {},
   "outputs": [],
   "source": [
    "info = ticker.get_info()\n",
    "\n",
    "name = info[\"shortName\"]\n",
    "symbol = info[\"symbol\"]\n",
    "isin = ticker.isin\n",
    "\n",
    "print(f\"Here is info on {name}, symbol {symbol}, of type {info[\"typeDisp\"]}, quoted on {info[\"fullExchangeName\"]} with ISIN code {isin}:\")\n",
    "print(\">>\", info[\"longBusinessSummary\"])"
   ]
  },
  {
   "cell_type": "markdown",
   "id": "caed7599-e852-4bcc-9f7f-09950b10e3e6",
   "metadata": {},
   "source": [
    "The info is complex, we can create a ```DataFrame``` to better handle it:"
   ]
  },
  {
   "cell_type": "code",
   "execution_count": null,
   "id": "bdfb0511-392f-46e1-837c-1af3233a2eaa",
   "metadata": {},
   "outputs": [],
   "source": [
    "info_df = pd.DataFrame.from_dict(ticker.get_info(), orient=\"index\")\n",
    "info_df.columns = [\"AAPL\"]\n",
    "\n",
    "info_df.head(10)"
   ]
  },
  {
   "cell_type": "markdown",
   "id": "08505b73-7faf-4c3c-bc26-27bbb5b79cd8",
   "metadata": {},
   "source": [
    "We can use the ```Ticker``` to obtain ```Sector``` and ```Industry``` specific info:"
   ]
  },
  {
   "cell_type": "code",
   "execution_count": null,
   "id": "afb49eec-8b20-442b-8ac6-43f8f33178fc",
   "metadata": {},
   "outputs": [],
   "source": [
    "# Ticker to Sector and Industry\n",
    "sector = yf.Sector(info.get(\"sectorKey\"))\n",
    "industry = yf.Industry(info.get(\"industryKey\"))\n",
    "\n",
    "# Sector and Industry to Ticker\n",
    "tech_ticker = sector.ticker\n",
    "software_ticker = industry.ticker\n",
    "\n",
    "# What do we obtain from these new tickers?\n",
    "df = pd.concat([\n",
    "    pd.DataFrame.from_dict(tech_ticker.get_info(), orient=\"index\"), \n",
    "    pd.DataFrame.from_dict(software_ticker.get_info(), orient=\"index\")\n",
    "    ], axis=1)\n",
    "df.columns = [\"Sector Ticker\", \"Industry Ticker\"]\n",
    "df.head(10)"
   ]
  },
  {
   "cell_type": "markdown",
   "id": "e76ea94a-5cbd-4bc0-af35-d6dccdcdcc8d",
   "metadata": {},
   "source": [
    "## Downloading Historical Data\n",
    "\n",
    "We can now download financial data. To import [S&P500](https://finance.yahoo.com/quote/%5EGSPC) daily data from Yahoo Finance, the ticker is \"^GSPC\":"
   ]
  },
  {
   "cell_type": "code",
   "execution_count": null,
   "id": "7404fb16-7ab5-4d0b-8ab5-54705b489e8b",
   "metadata": {},
   "outputs": [],
   "source": [
    "df_sp500 = yf.download(\"^GSPC\", start=\"1900-01-01\", multi_level_index=False, auto_adjust=True)\n",
    "df_sp500.info()"
   ]
  },
  {
   "cell_type": "markdown",
   "id": "5e2c8274-2742-4121-a141-36b693040712",
   "metadata": {},
   "source": [
    "Preliminary data exploration:"
   ]
  },
  {
   "cell_type": "code",
   "execution_count": null,
   "id": "e7e7e27d-cf13-41b7-8e7b-4caa0833ef46",
   "metadata": {},
   "outputs": [],
   "source": [
    "df_sp500.head()"
   ]
  },
  {
   "cell_type": "code",
   "execution_count": null,
   "id": "b9bf9216-0ded-4b80-8c9f-1beff772b1b2",
   "metadata": {},
   "outputs": [],
   "source": [
    "df_sp500.describe()"
   ]
  },
  {
   "cell_type": "markdown",
   "id": "42a5809b-30a5-469d-8909-778cc6ec31cd",
   "metadata": {},
   "source": [
    "The _Open_ column presents some zero values, which is unusual for financial data and probably denotes missing values. Let's investigate:"
   ]
  },
  {
   "cell_type": "code",
   "execution_count": null,
   "id": "2e5ce197-c036-4376-92d4-430069e4a4d9",
   "metadata": {},
   "outputs": [],
   "source": [
    "zeros= sum(df_sp500[\"Open\"] == 0)\n",
    "print(f\"There are {zeros} zeros in this column:\")\n",
    "df_sp500[\"Open\"].plot()\n",
    "plt.yscale(\"log\")\n",
    "plt.ylabel(\"S&P 500 Open\")\n",
    "plt.show()"
   ]
  },
  {
   "cell_type": "markdown",
   "id": "ae2dc3ed-e680-4dcf-b15d-9e8768782bc7",
   "metadata": {},
   "source": [
    "Notice that the historical record of opening values is incomplete, but it becomes more reliable starting in the early 1980s, thanks to advancements in trading technology. Much of the pre-1980s data was reconstructed from newspapers, end-of-day reports, or monthly summaries, which often included only high, low, close, and volume. More accurate historical data exists, but it is not available for free in yahoo finance. Missing data is filled with **zero**."
   ]
  },
  {
   "cell_type": "markdown",
   "id": "72b8ce66-9afc-48db-bb37-cdb6dbaa4916",
   "metadata": {},
   "source": [
    "Let's plot _Close_ values, which we expect to be more reliable:"
   ]
  },
  {
   "cell_type": "code",
   "execution_count": null,
   "id": "e90f2282-3f7d-434d-a788-b7b5dc1ab4c2",
   "metadata": {},
   "outputs": [],
   "source": [
    "df_sp500[\"Close\"].plot()\n",
    "plt.yscale(\"log\")\n",
    "plt.ylabel(\"S&P 500 Close\")\n",
    "plt.show()"
   ]
  },
  {
   "cell_type": "markdown",
   "id": "b6b18081-11ac-4d67-ad47-7c3f567d21c3",
   "metadata": {},
   "source": [
    "Historic data is alredy adjusted to account for corporate events (splits), but not for dividends."
   ]
  },
  {
   "cell_type": "markdown",
   "id": "ebf5f098-a0e7-441b-8526-aa88f312733c",
   "metadata": {},
   "source": [
    "To create more complex representations, like candlestick graphs, we can shorten our time series considering only post-1985 data (when open values where recorded):"
   ]
  },
  {
   "cell_type": "code",
   "execution_count": null,
   "id": "a022ef6d-9aef-4ddf-86d4-b5c14cf251df",
   "metadata": {},
   "outputs": [],
   "source": [
    "candlestick = df_sp500[df_sp500.index > \"2000-01-01\"]\n",
    "candlestick.reset_index(inplace=True)\n",
    "\n",
    "fig = go.Figure(data=[go.Candlestick(x=candlestick[\"Date\"],\n",
    "                open=candlestick['Open'],\n",
    "                high=candlestick['High'],\n",
    "                low=candlestick['Low'],\n",
    "                close=candlestick['Close'])])\n",
    "\n",
    "fig.update_layout(\n",
    "    title=dict(text='S&P 500 Candlestick Graph with Rangeslider'),\n",
    "    yaxis=dict(\n",
    "      title=dict(\n",
    "        text='S&P500 Index'\n",
    "        )\n",
    "    )\n",
    ")\n",
    "\n",
    "fig.show()"
   ]
  }
 ],
 "metadata": {
  "kernelspec": {
   "display_name": "Python 3 (ipykernel)",
   "language": "python",
   "name": "python3"
  },
  "language_info": {
   "codemirror_mode": {
    "name": "ipython",
    "version": 3
   },
   "file_extension": ".py",
   "mimetype": "text/x-python",
   "name": "python",
   "nbconvert_exporter": "python",
   "pygments_lexer": "ipython3"
  }
 },
 "nbformat": 4,
 "nbformat_minor": 5
}
