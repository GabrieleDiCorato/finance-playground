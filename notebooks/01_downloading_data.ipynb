{
 "cells": [
  {
   "cell_type": "markdown",
   "id": "6bfe228d-e9e1-4516-bbb0-958a1cce37f0",
   "metadata": {},
   "source": [
    "# Yahooo Finance Exploration"
   ]
  },
  {
   "cell_type": "markdown",
   "id": "dc1553ed-4c52-42fc-b056-e9caba6f520a",
   "metadata": {},
   "source": [
    "This notebook is dedicated to exploring basic yfinance functionalities."
   ]
  },
  {
   "cell_type": "code",
   "execution_count": null,
   "id": "20a8551f-a592-40c6-9480-3c752669cef5",
   "metadata": {},
   "outputs": [],
   "source": [
    "import yfinance as yf\n",
    "import numpy as np\n",
    "import pandas as pd\n",
    "import matplotlib.pyplot as plt"
   ]
  },
  {
   "cell_type": "markdown",
   "id": "056a2703-f5f1-44e5-8304-95b949518949",
   "metadata": {},
   "source": [
    "## Searching"
   ]
  },
  {
   "cell_type": "markdown",
   "id": "5d4c9efb-d8e4-4448-8643-6e12f86f46d5",
   "metadata": {},
   "source": [
    "### Search"
   ]
  },
  {
   "cell_type": "markdown",
   "id": "7c077257-4928-4b7e-92bd-976f01294beb",
   "metadata": {},
   "source": [
    "We can perform searches on Yahoo Finance using the [Search API](https://yfinance-python.org/reference/api/yfinance.Search.html#yfinance.Search). This allows simple queries using asset name or ticker. The focus is on market quotes, but query parameters allow to include optional results like news, research, or company breakdown. "
   ]
  },
  {
   "cell_type": "code",
   "execution_count": null,
   "id": "f5dfaa77-7234-4c48-bc2d-7081ca47e9ac",
   "metadata": {},
   "outputs": [],
   "source": [
    "# By default, results include quotes, news, and corporate breakdown. \n",
    "# We disable news and increase max quote results to 10.\n",
    "search_handler = yf.Search(\n",
    "    \"Apple Inc.\", \n",
    "    max_results = 10,\n",
    "    recommended = 10,\n",
    "    news_count = 0, \n",
    "    include_cb = False\n",
    ")\n",
    "\n",
    "search_res = search_handler.search()\n",
    "\n",
    "# Let's look at the raw response in dictionary form\n",
    "search_res.response"
   ]
  },
  {
   "cell_type": "code",
   "execution_count": null,
   "id": "4c2bb0a9-798e-4e77-ba44-7980d767283e",
   "metadata": {},
   "outputs": [],
   "source": [
    "print(f\"There are {search_res.response[\"count\"]} results for this query\")\n",
    "\n",
    "quotes_info = [(exch_dict[\"symbol\"], exch_dict[\"exchDisp\"], exch_dict[\"exchange\"]) \n",
    "               for exch_dict in search_res.quotes \n",
    "               if exch_dict[\"quoteType\"] == \"EQUITY\"]\n",
    "print(\"Apple Inc. is quoted on the following markets:\", quotes_info)"
   ]
  },
  {
   "cell_type": "markdown",
   "id": "f9a85f0d-5688-49c5-a9d9-f146d209052c",
   "metadata": {},
   "source": [
    "### Lookup"
   ]
  },
  {
   "cell_type": "markdown",
   "id": "7d1f733d-15bb-4d0d-a7ce-7a278f041268",
   "metadata": {},
   "source": [
    "The [Lookup API](https://yfinance-python.org/reference/api/yfinance.Lookup.html#yfinance.Lookup) queries Yahoo Finance for tickers. It focuses on instrument lookup, and presents data in a useful DataFrame format, with methods dedicated to quote types. Continuing with our _Apple Inc._ example, we obtain:"
   ]
  },
  {
   "cell_type": "code",
   "execution_count": null,
   "id": "e190a01a-224e-44e1-ad89-13fb6922f5a8",
   "metadata": {},
   "outputs": [],
   "source": [
    "lookup_res = yf.Lookup(\"Apple Inc.\")\n",
    "lookup_res.all.head()"
   ]
  },
  {
   "cell_type": "markdown",
   "id": "439cb849-07f8-4791-a080-aeef5118f9a4",
   "metadata": {},
   "source": [
    "The first result is the primary market for Apple Inc. The query appears to involve the ```symbol``` (ticker) and ```shortName``` fields. As we can't restrict it with additional parameters, and the basic info returned is not sufficient, further investigations would be required to select a specific instrument."
   ]
  },
  {
   "cell_type": "markdown",
   "id": "b9b06446-39f5-4f1a-bec5-6b7e3c991c70",
   "metadata": {},
   "source": [
    "We can also lookup directly by ticker. While we obviously find what we are looking for, search results appear to be spurious, including substring matches both in the ```symbol``` and ```shortName``` fields."
   ]
  },
  {
   "cell_type": "code",
   "execution_count": null,
   "id": "bce7ce82-12ab-4d60-a5c0-8446178ae593",
   "metadata": {},
   "outputs": [],
   "source": [
    "lookup_res = yf.Lookup(\"AAPL\")\n",
    "lookup_res.get_all().head()"
   ]
  },
  {
   "cell_type": "code",
   "execution_count": null,
   "id": "ac953937-92a2-4f23-9676-5266b97a4ef4",
   "metadata": {},
   "outputs": [],
   "source": [
    "# Resulting stocks\n",
    "print(\"Stocks:\")\n",
    "lookup_res.get_stock().head()"
   ]
  },
  {
   "cell_type": "code",
   "execution_count": null,
   "id": "20be0248-4c48-4ef7-9671-10cce792229a",
   "metadata": {},
   "outputs": [],
   "source": [
    "print(\"ETFs:\")\n",
    "lookup_res.get_etf().head()"
   ]
  },
  {
   "cell_type": "markdown",
   "id": "0f28ef38-24c8-483b-83a0-e64cc75b5bb7",
   "metadata": {},
   "source": [
    "### Screen"
   ]
  },
  {
   "cell_type": "markdown",
   "id": "ea55acbc-60bd-4479-ad34-30f0206729b6",
   "metadata": {},
   "source": [
    "To perform more complex (and general) searches, we have to provide ```*Query``` objects, like ```EquityQuery```, to the [Screen API](https://yfinance-python.org/reference/yfinance.screener.html). It allows to construct filters based on region, sector, exchange, performance _etc._."
   ]
  },
  {
   "cell_type": "code",
   "execution_count": null,
   "id": "33d7adaa-1f4d-4c93-8e58-033b056c095f",
   "metadata": {},
   "outputs": [],
   "source": [
    "nms_changers = yf.EquityQuery(\"and\", [\n",
    "    yf.EquityQuery(\"eq\", [\"exchange\", \"NMS\"]),\n",
    "    yf.EquityQuery(\"gt\", [\"percentchange\", 3])\n",
    "    ])\n",
    "\n",
    "pd.DataFrame.from_dict(\n",
    "    yf.screen(nms_changers,\n",
    "              sortField = \"percentchange\", \n",
    "              sortAsc = False, \n",
    "              size = 10), \n",
    "    orient=\"index\",\n",
    "    columns = [\"Results\"])"
   ]
  },
  {
   "cell_type": "markdown",
   "id": "096a1a9f-25f2-4069-b6dc-be06ee946e94",
   "metadata": {},
   "source": [
    "There are some [predefined screeners](https://yfinance-python.org/reference/api/yfinance.screen.html#yfinance.screen) available:"
   ]
  },
  {
   "cell_type": "code",
   "execution_count": null,
   "id": "d7c5ea4e-dbad-476d-a015-570cf02f573e",
   "metadata": {},
   "outputs": [],
   "source": [
    "query = yf.PREDEFINED_SCREENER_QUERIES['day_gainers'][\"query\"]\n",
    "yf.screen(query, size = 1)"
   ]
  },
  {
   "cell_type": "markdown",
   "id": "506574d5-3d4c-4db2-84fd-d2f257329247",
   "metadata": {},
   "source": [
    "## Downloading Ticker Info"
   ]
  },
  {
   "cell_type": "markdown",
   "id": "4d1d0e4f-5e78-4cdf-b129-bd57019d1984",
   "metadata": {},
   "source": [
    "To retrieve info on a single financial instrument, for example [Apple](https://it.finance.yahoo.com/quote/AAPL/):"
   ]
  },
  {
   "cell_type": "code",
   "execution_count": null,
   "id": "5152b146-9e8f-4ec3-8144-586e1a8bba15",
   "metadata": {},
   "outputs": [],
   "source": [
    "ticker = yf.Ticker(\"AAPL\")"
   ]
  },
  {
   "cell_type": "markdown",
   "id": "26cbac54-d31b-4820-8cd2-7dc20bc104c9",
   "metadata": {},
   "source": [
    "We can obtain a lot of data from this Ticker object and its methods. Here are some personal notes on what catches my eyes:\n",
    "\n",
    "* ```ticker.get_info``` returns a dictionary with miscellaneos info, both anagraphical (e.g. short name, market, exchange, quote type, quote currency, etc.) and market quotes (e.g. day high, volume, bid/ask, etc.);\n",
    "* ```ticker.get_history_metadata``` returns a dictionary with details on the security's trading operations, e.g. current trading period, recent past trading period hours, etc.;\n",
    "* ```ticker.get_actions``` returns a DataFrame of past corporate actions, but only Dividends and Stock Splits;\n",
    "* ```ticker.get_balance_sheet``` returns a DataFrame with a history of the company's balance sheets. Of course this only applies to stocks;\n",
    "* ```ticker.get_calendar``` returns info on future events, like the next ex-dividend date;\n",
    "* ```ticker.option_chain``` returns an Options object with info on [all options](https://finance.yahoo.com/quote/AAPL/options/) on this underlying;\n",
    "* ```ticker.get_news``` returns a list of news on this security;\n",
    "* ```ticker.funds_data``` returns info on fund-related data (when applicable).\n",
    "\n",
    "There a lot of other methods that can be explored [here](https://yfinance-python.org/reference/api/yfinance.Ticker.html#yfinance.Ticker). Unfortunately the API is poorly documented."
   ]
  },
  {
   "cell_type": "code",
   "execution_count": null,
   "id": "b204dda3-f1a9-4baa-b318-83e22c881539",
   "metadata": {},
   "outputs": [],
   "source": [
    "info = ticker.get_info()\n",
    "\n",
    "name = info[\"shortName\"]\n",
    "symbol = info[\"symbol\"]\n",
    "isin = ticker.isin\n",
    "\n",
    "print(f\"Here is info on {name}, symbol {symbol}, of type {info[\"typeDisp\"]}, quoted on {info[\"fullExchangeName\"]} with ISIN code {isin}:\")\n",
    "print(\">>\", info[\"longBusinessSummary\"])"
   ]
  },
  {
   "cell_type": "markdown",
   "id": "caed7599-e852-4bcc-9f7f-09950b10e3e6",
   "metadata": {},
   "source": [
    "The info is complex, we can create a ```DataFrame``` to better handle it:"
   ]
  },
  {
   "cell_type": "code",
   "execution_count": null,
   "id": "bdfb0511-392f-46e1-837c-1af3233a2eaa",
   "metadata": {},
   "outputs": [],
   "source": [
    "info_df = pd.DataFrame.from_dict(ticker.get_info(), orient=\"index\", columns = [\"AAPL\"])\n",
    "\n",
    "info_df.head(10)"
   ]
  },
  {
   "cell_type": "markdown",
   "id": "08505b73-7faf-4c3c-bc26-27bbb5b79cd8",
   "metadata": {},
   "source": [
    "We can use the ```Ticker``` to obtain ```Sector``` and ```Industry``` specific info:"
   ]
  },
  {
   "cell_type": "code",
   "execution_count": null,
   "id": "afb49eec-8b20-442b-8ac6-43f8f33178fc",
   "metadata": {},
   "outputs": [],
   "source": [
    "# Ticker to Sector and Industry\n",
    "sector = yf.Sector(info.get(\"sectorKey\"))\n",
    "industry = yf.Industry(info.get(\"industryKey\"))\n",
    "\n",
    "# Sector and Industry to Ticker\n",
    "tech_ticker = sector.ticker\n",
    "software_ticker = industry.ticker\n",
    "\n",
    "# What do we obtain from these new tickers?\n",
    "df = pd.concat([\n",
    "    pd.DataFrame.from_dict(tech_ticker.get_info(), orient=\"index\"), \n",
    "    pd.DataFrame.from_dict(software_ticker.get_info(), orient=\"index\")\n",
    "    ], axis=1)\n",
    "df.columns = [\"Sector Ticker\", \"Industry Ticker\"]\n",
    "df.head(10)"
   ]
  },
  {
   "cell_type": "markdown",
   "id": "e76ea94a-5cbd-4bc0-af35-d6dccdcdcc8d",
   "metadata": {},
   "source": [
    "## Downloading Historical Data\n",
    "\n",
    "We can now download financial data. To import [S&P500](https://finance.yahoo.com/quote/%5EGSPC) daily data from Yahoo Finance, the ticker is \"^GSPC\":"
   ]
  },
  {
   "cell_type": "code",
   "execution_count": null,
   "id": "7404fb16-7ab5-4d0b-8ab5-54705b489e8b",
   "metadata": {},
   "outputs": [],
   "source": [
    "file = \"../data/gspc.csv\"\n",
    "\n",
    "try:\n",
    "    df_sp500 = pd.read_csv(file, parse_dates = [\"Date\"])\n",
    "    print(\"Read historical data from\", file) \n",
    "except FileNotFoundError:\n",
    "    df_sp500 = yf.download(\"^GSPC\", start=\"1900-01-01\", multi_level_index=False, auto_adjust=True)\n",
    "    df_sp500.to_csv(file)\n",
    "    print(\"Dowloaded historic data and wrote them into\", file)\n",
    "\n",
    "df_sp500.info()"
   ]
  },
  {
   "cell_type": "markdown",
   "id": "5e2c8274-2742-4121-a141-36b693040712",
   "metadata": {},
   "source": [
    "Preliminary data exploration:"
   ]
  },
  {
   "cell_type": "code",
   "execution_count": null,
   "id": "e7e7e27d-cf13-41b7-8e7b-4caa0833ef46",
   "metadata": {},
   "outputs": [],
   "source": [
    "df_sp500.head()"
   ]
  },
  {
   "cell_type": "code",
   "execution_count": null,
   "id": "b9bf9216-0ded-4b80-8c9f-1beff772b1b2",
   "metadata": {},
   "outputs": [],
   "source": [
    "df_sp500.describe()"
   ]
  },
  {
   "cell_type": "markdown",
   "id": "42a5809b-30a5-469d-8909-778cc6ec31cd",
   "metadata": {},
   "source": [
    "The _Open_ column presents some zero values, which is unusual for financial data and denotes missing values. Let's investigate:"
   ]
  },
  {
   "cell_type": "code",
   "execution_count": null,
   "id": "2e5ce197-c036-4376-92d4-430069e4a4d9",
   "metadata": {},
   "outputs": [],
   "source": [
    "zeros= sum(df_sp500[\"Open\"] == 0)\n",
    "print(f\"There are {zeros} zeros in this column:\")\n",
    "df_sp500[\"Open\"].plot()\n",
    "plt.yscale(\"log\")\n",
    "plt.ylabel(\"S&P 500 Open\")\n",
    "plt.show()"
   ]
  },
  {
   "cell_type": "markdown",
   "id": "ae2dc3ed-e680-4dcf-b15d-9e8768782bc7",
   "metadata": {},
   "source": [
    "Notice that the historical record of opening values is incomplete, but it becomes more reliable starting in the early 1980s, thanks to advancements in trading technology. Much of the pre-1980s data was reconstructed from newspapers, end-of-day reports, or monthly summaries, which often included only high, low, close, and volume. More accurate historical data exists, but it is not available for free in yahoo finance. Missing data is filled with **zero**."
   ]
  },
  {
   "cell_type": "markdown",
   "id": "72b8ce66-9afc-48db-bb37-cdb6dbaa4916",
   "metadata": {},
   "source": [
    "Let's plot _Close_ values, which we expect to be more reliable:"
   ]
  },
  {
   "cell_type": "code",
   "execution_count": null,
   "id": "e90f2282-3f7d-434d-a788-b7b5dc1ab4c2",
   "metadata": {},
   "outputs": [],
   "source": [
    "df_sp500[\"Close\"].plot()\n",
    "plt.yscale(\"log\")\n",
    "plt.ylabel(\"S&P 500 Close\")\n",
    "plt.show()"
   ]
  },
  {
   "cell_type": "markdown",
   "id": "b6b18081-11ac-4d67-ad47-7c3f567d21c3",
   "metadata": {},
   "source": [
    "Historic data is alredy adjusted to account for corporate events (splits), but not for dividends."
   ]
  },
  {
   "cell_type": "markdown",
   "id": "34c5edf8-bf0f-4c9d-835a-7d51df7fe098",
   "metadata": {},
   "source": [
    "## Option Chains"
   ]
  },
  {
   "cell_type": "markdown",
   "id": "924005ea-6630-488e-8e42-3bfc3171c774",
   "metadata": {},
   "source": [
    "To download option chains, we first build a ```Ticker```, then identify the list of quoted expiry dates. Finally, we can download the options for a given expiry date."
   ]
  },
  {
   "cell_type": "code",
   "execution_count": null,
   "id": "2a878905-56eb-4c77-b7cc-5e8ade7dc1b3",
   "metadata": {},
   "outputs": [],
   "source": [
    "ticker = yf.Ticker(\"AAPL\")\n",
    "\n",
    "# Ticker.options returns a list of expiration dates\n",
    "expiration_dates = ticker.options\n",
    "\n",
    "# Ticker.option_chain returns an object representing the option chain\n",
    "chain_dict = dict([(expiry, ticker.option_chain(expiry)) for expiry in expiration_dates])"
   ]
  },
  {
   "cell_type": "code",
   "execution_count": null,
   "id": "b43cbc93-ac27-4e9a-a5ff-d25dbd037eae",
   "metadata": {},
   "outputs": [],
   "source": [
    "date = expiration_dates[0]\n",
    "opts = chain_dict[date].calls\n",
    "\n",
    "print(f\"Options expiring on {date}:\")\n",
    "opts.head()"
   ]
  },
  {
   "cell_type": "markdown",
   "id": "bbed0c8a-86ce-4fff-92a3-f2c53a2a76c4",
   "metadata": {},
   "source": [
    "## Final Example"
   ]
  },
  {
   "cell_type": "markdown",
   "id": "e3d4bea4-4959-4d16-8d45-ff174271a27b",
   "metadata": {},
   "source": [
    "Let us conclude this notebook with a complete workflow example using Apple stocks."
   ]
  },
  {
   "cell_type": "code",
   "execution_count": null,
   "id": "d89b4650-c766-4e01-9740-adb4b1713e54",
   "metadata": {},
   "outputs": [],
   "source": [
    "lookup_res = yf.Lookup(\"Apple Inc.\")\n",
    "\n",
    "apple_stocks = lookup_res.get_stock()\n",
    "apple_stocks.reset_index(inplace = True)\n",
    "print(f\"There are {len(apple_stocks)} stock results:\")\n",
    "apple_stocks.head()"
   ]
  },
  {
   "cell_type": "markdown",
   "id": "14684e7a-6e16-4f8d-8893-6b27f7c0075c",
   "metadata": {},
   "source": [
    "From these results, we can obtain ```Ticker``` objects and related info. Using the fact that ```Ticker.get_info``` returns a dictionary:"
   ]
  },
  {
   "cell_type": "code",
   "execution_count": null,
   "id": "eb038fb9-ea62-48c6-8eb9-bfe11648bdb4",
   "metadata": {},
   "outputs": [],
   "source": [
    "infos = {}\n",
    "for i, row in apple_stocks.iterrows():\n",
    "    ticker = yf.Ticker(row[\"symbol\"])\n",
    "    info = ticker.get_info()\n",
    "    infos[info[\"symbol\"]] = info\n",
    "\n",
    "ticker_info = pd.DataFrame.from_dict(infos, orient = \"index\")\n",
    "ticker_info.head()"
   ]
  },
  {
   "cell_type": "markdown",
   "id": "49eefef9-dde0-499d-a47f-fa42543ea6d7",
   "metadata": {},
   "source": [
    "Let's visualize it better:"
   ]
  },
  {
   "cell_type": "code",
   "execution_count": null,
   "id": "92ebc124-4b9a-49e3-951d-37dbb430399f",
   "metadata": {},
   "outputs": [],
   "source": [
    "ticker_info.loc[:, [\"shortName\", \"longName\", \"exchange\", \"fullExchangeName\"]]"
   ]
  },
  {
   "cell_type": "markdown",
   "id": "18192010-95b6-4b62-8bce-f28bf6b4d9e0",
   "metadata": {},
   "source": [
    "Let us download and plot recent historic data for the primary market:"
   ]
  },
  {
   "cell_type": "code",
   "execution_count": null,
   "id": "3421bc2b-312c-44f9-b21c-274e078e852c",
   "metadata": {},
   "outputs": [],
   "source": [
    "history = yf.Ticker(ticker_info.index[0]).history()\n",
    "\n",
    "history[[\"Open\", \"Close\"]].plot()"
   ]
  },
  {
   "cell_type": "markdown",
   "id": "3945617f-8831-47db-a98a-110bb6be9d4b",
   "metadata": {},
   "source": [
    "To create more complex representations, we require all the columns to have valid data:"
   ]
  },
  {
   "cell_type": "code",
   "execution_count": null,
   "id": "a022ef6d-9aef-4ddf-86d4-b5c14cf251df",
   "metadata": {},
   "outputs": [],
   "source": [
    "candlestick = history.reset_index()\n",
    "\n",
    "fig = go.Figure(\n",
    "    data=[\n",
    "        go.Candlestick(\n",
    "            x=candlestick[\"Date\"], \n",
    "            open=candlestick['Open'],\n",
    "            high=candlestick['High'],\n",
    "            low=candlestick['Low'],\n",
    "            close=candlestick['Close']\n",
    "        )\n",
    "    ]\n",
    ")\n",
    "\n",
    "fig.update_layout(\n",
    "    title=dict(text='Apple Inc. 500 Candlestick Graph with Rangeslider'),\n",
    "    yaxis=dict(title=dict(text='Apple Inc. Price (USD)'))\n",
    ")\n",
    "\n",
    "fig.show()"
   ]
  }
 ],
 "metadata": {
  "kernelspec": {
   "display_name": "Python 3 (ipykernel)",
   "language": "python",
   "name": "python3"
  },
  "language_info": {
   "codemirror_mode": {
    "name": "ipython",
    "version": 3
   },
   "file_extension": ".py",
   "mimetype": "text/x-python",
   "name": "python",
   "nbconvert_exporter": "python",
   "pygments_lexer": "ipython3"
  }
 },
 "nbformat": 4,
 "nbformat_minor": 5
}
