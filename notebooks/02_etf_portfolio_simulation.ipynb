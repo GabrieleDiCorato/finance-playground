{
 "cells": [
  {
   "cell_type": "markdown",
   "id": "8a60e4cf-3932-4a0e-b8ec-78c0890b9cd0",
   "metadata": {},
   "source": [
    "# ETF Portfolio Simulation"
   ]
  },
  {
   "cell_type": "code",
   "execution_count": null,
   "id": "8ae853c3-2270-4e76-9de3-d54ce69f879f",
   "metadata": {},
   "outputs": [],
   "source": [
    "import numpy as np\n",
    "import pandas as pd\n",
    "import matplotlib.pyplot as plt\n",
    "import yfinance as yf"
   ]
  },
  {
   "cell_type": "markdown",
   "id": "be5fe1da-4eab-4d33-be02-20e481f111e9",
   "metadata": {},
   "source": [
    "In this notebook, we examine a simple portfolio consisting of two ETFs. We begin by exploring how to download data for multiple tickers and retrieve their associated metadata."
   ]
  },
  {
   "cell_type": "code",
   "execution_count": null,
   "id": "fe45cb0f-b288-477f-9c9a-10d6831fb7ce",
   "metadata": {},
   "outputs": [],
   "source": [
    "ticker_1_str = \"SWDA.MI\"\n",
    "ticker_2_str = \"XGLE.MI\"\n",
    "\n",
    "ticker_1 = yf.Ticker(ticker_1_str)\n",
    "ticker_2 = yf.Ticker(ticker_2_str)\n",
    "\n",
    "print(f\"Going to download {ticker_1.info[\"shortName\"]} and {ticker_2.info[\"shortName\"]}\")"
   ]
  },
  {
   "cell_type": "code",
   "execution_count": null,
   "id": "2918ca5e-a7ec-4ae1-b673-66e6d8668f28",
   "metadata": {},
   "outputs": [],
   "source": [
    "def yf_download(ticker, start=\"1900-01-01\"):\n",
    "    #df = yf.download(ticker, start=start, multi_level_index=True, auto_adjust=True)\n",
    "    df = yf.download(ticker, start=start, multi_level_index=True, auto_adjust=True)\n",
    "    return df"
   ]
  },
  {
   "cell_type": "code",
   "execution_count": null,
   "id": "77362329-d0e2-415e-a909-15ed3f02b61e",
   "metadata": {},
   "outputs": [],
   "source": [
    "# Stock (iShares Core MSCI World) + Bond (Eurozone Government Bond) UCITS ETFs\n",
    "df = yf_download([ticker_1_str, ticker_2_str], start=\"2010-01-01\")\n",
    "df.info()"
   ]
  },
  {
   "cell_type": "markdown",
   "id": "c0d4aa32-2e04-41e6-ba62-7837882eebcd",
   "metadata": {},
   "source": [
    "We focus on close values and perform an exploratory analysis:"
   ]
  },
  {
   "cell_type": "code",
   "execution_count": null,
   "id": "ecdf7ad7-0ec2-4d29-8267-328ed0f04328",
   "metadata": {},
   "outputs": [],
   "source": [
    "df_cl = df[\"Close\"]\n",
    "df_cl.describe()"
   ]
  },
  {
   "cell_type": "markdown",
   "id": "d9a1b94d-8917-43f0-89d2-dc7c79aba426",
   "metadata": {},
   "source": [
    "SWDA has more values than XGLE. The difference is composed of null values. We can propagate the last valid price."
   ]
  },
  {
   "cell_type": "code",
   "execution_count": null,
   "id": "9a058090-c71c-446e-921f-5998e800d009",
   "metadata": {},
   "outputs": [],
   "source": [
    "print(f\"Going to forward-fill null values: {df_cl.isnull().values.sum()}\")\n",
    "df_cl = df_cl.ffill()\n",
    "print(f\"Residual null values: {df_cl.isnull().values.sum()}\")"
   ]
  },
  {
   "cell_type": "code",
   "execution_count": null,
   "id": "61dffaa3-ebb1-4ad9-a6bd-9fb5d8622b58",
   "metadata": {},
   "outputs": [],
   "source": [
    "# Normalized exploratory plot\n",
    "(df_cl / df_cl.iloc[0]).plot()"
   ]
  },
  {
   "cell_type": "markdown",
   "id": "ddaea168-8309-4f14-92e9-d223c0ee4df2",
   "metadata": {},
   "source": [
    "## Historical Portfolio Scenarios - No Rebalancing\n"
   ]
  },
  {
   "cell_type": "markdown",
   "id": "7804cea5-1101-4a23-8f0d-582dd36cd1ab",
   "metadata": {},
   "source": [
    "Consider a portfolio built using only the two ETFs downloaded above. The portfolio has a stock component equal to ```stock_alloc```.\n",
    "\n",
    "We start by evaluating its historical performance with no rebalancing:"
   ]
  },
  {
   "cell_type": "code",
   "execution_count": null,
   "id": "a265d9c1-53ef-4966-9920-d3b753bd33f9",
   "metadata": {},
   "outputs": [],
   "source": [
    "def eval_portfolio(df2, stock_alloc):\n",
    "    df = df2.copy()\n",
    "\n",
    "    s_t0 = df.iloc[0] \n",
    "    n_t0 = np.array([stock_alloc, 1 - stock_alloc]) / s_t0\n",
    "    \n",
    "    portfolio = []\n",
    "    for i in range(len(df)):\n",
    "        value_i = np.sum(n_t0 * df.iloc[i])\n",
    "        portfolio.append(value_i)\n",
    "\n",
    "    df[f\"{stock_alloc:.0%}\"] = portfolio\n",
    "    return df"
   ]
  },
  {
   "cell_type": "markdown",
   "id": "7685a837-00e4-4d17-ae00-afed1833dfe2",
   "metadata": {},
   "source": [
    "To compare the performance in different allocation scenarios, we could:\n",
    "\n",
    "1. Call the simple ```eval_portfolio``` multiple times and aggregate the result;\n",
    "2. Modify the ```eval_portfolio``` method to handle a list of ```stock_alloc```. \n",
    "\n",
    "The second solutions is more efficient, but let's start with the first approach for simplicity."
   ]
  },
  {
   "cell_type": "code",
   "execution_count": null,
   "id": "0610b987-8266-4cfe-8b2a-fef72ec2ff5e",
   "metadata": {},
   "outputs": [],
   "source": [
    "stock_allocs = np.linspace(0, 1, num=5)\n",
    "\n",
    "evaluations = [eval_portfolio(df_cl, alloc).iloc[:,2] for alloc in stock_allocs]\n",
    "evaluations = pd.concat(evaluations, axis=1)\n",
    "evaluations.plot()"
   ]
  }
 ],
 "metadata": {
  "kernelspec": {
   "display_name": "Python 3 (ipykernel)",
   "language": "python",
   "name": "python3"
  },
  "language_info": {
   "codemirror_mode": {
    "name": "ipython",
    "version": 3
   },
   "file_extension": ".py",
   "mimetype": "text/x-python",
   "name": "python",
   "nbconvert_exporter": "python",
   "pygments_lexer": "ipython3"
  }
 },
 "nbformat": 4,
 "nbformat_minor": 5
}
